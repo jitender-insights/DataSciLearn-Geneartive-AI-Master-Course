{
 "cells": [
  {
   "cell_type": "markdown",
   "metadata": {},
   "source": [
    "## Groq is Fast AI Inference\n",
    "\n",
    "Offical Link : https://console.groq.com/"
   ]
  },
  {
   "cell_type": "code",
   "execution_count": 7,
   "metadata": {},
   "outputs": [
    {
     "data": {
      "text/plain": [
       "True"
      ]
     },
     "execution_count": 7,
     "metadata": {},
     "output_type": "execute_result"
    }
   ],
   "source": [
    "# Import required libraries\n",
    "from langchain_groq import ChatGroq\n",
    "from langchain.chains import LLMChain\n",
    "from langchain.prompts import PromptTemplate\n",
    "import os\n",
    "from dotenv import load_dotenv\n",
    "load_dotenv()\n",
    "\n"
   ]
  },
  {
   "cell_type": "code",
   "execution_count": 8,
   "metadata": {},
   "outputs": [],
   "source": [
    "# Set up your API key\n",
    "os.environ[\"GROQ_API_KEY\"] = os.getenv(\"GROQ_API_KEY\")\n"
   ]
  },
  {
   "cell_type": "code",
   "execution_count": 29,
   "metadata": {},
   "outputs": [],
   "source": [
    "# Initialize the Groq model\n",
    "llm = ChatGroq(\n",
    "    model_name=\"llama3-8b-8192\",\n",
    "    temperature=0.7\n",
    ")\n",
    "\n",
    "#models = \"mixtral-8x7b-32768\" , \"llama3-8b-8192\" ,\"gemma2-9b-it\""
   ]
  },
  {
   "cell_type": "code",
   "execution_count": 30,
   "metadata": {},
   "outputs": [],
   "source": [
    "# Create a prompt template\n",
    "prompt = PromptTemplate(\n",
    "    input_variables=[\"question\"],\n",
    "    template=\"Please answer this question: {question}\"\n",
    ")\n",
    "\n"
   ]
  },
  {
   "cell_type": "code",
   "execution_count": 31,
   "metadata": {},
   "outputs": [],
   "source": [
    "# Create the chain\n",
    "chain = LLMChain(llm=llm, prompt=prompt)\n",
    "\n"
   ]
  },
  {
   "cell_type": "code",
   "execution_count": 32,
   "metadata": {},
   "outputs": [
    {
     "name": "stdout",
     "output_type": "stream",
     "text": [
      "\n",
      "Question: What are three main benefits of artificial intelligence?\n",
      "Answer: Here are three main benefits of artificial intelligence (AI):\n",
      "\n",
      "1. **Increased Efficiency**: AI can automate repetitive, time-consuming, and mundane tasks, freeing up human workers to focus on more strategic and creative activities. This can lead to increased productivity, reduced costs, and improved overall efficiency. For example, AI-powered chatbots can handle customer service inquiries, while AI-assisted accounting software can process financial data with greater accuracy and speed.\n",
      "2. **Improved Decision-Making**: AI can analyze vast amounts of data quickly and accurately, providing insights that human analysts may miss. This can lead to better decision-making, reduced risk, and improved outcomes in fields like healthcare, finance, and marketing. For instance, AI-powered predictive analytics can help doctors diagnose diseases more accurately, while AI-driven marketing algorithms can optimize ad campaigns for better ROI.\n",
      "3. **Enhanced Personalization**: AI can learn individual preferences and behaviors, enabling personalized experiences that improve customer satisfaction and loyalty. This can be seen in applications like personalized product recommendations, tailored content delivery, and customized customer service. For example, AI-powered recommendation engines can suggest products based on a customer's purchase history and browsing behavior, while AI-driven content platforms can serve users with content that matches their interests and preferences.\n",
      "\n",
      "These benefits highlight the potential of AI to transform industries, improve lives, and drive business success.\n"
     ]
    }
   ],
   "source": [
    "# Direct usage - ask a question\n",
    "question = \"What are three main benefits of artificial intelligence?\"\n",
    "response = chain.invoke({\"question\": question})\n",
    "print(\"\\nQuestion:\", question)\n",
    "print(\"Answer:\", response['text'])"
   ]
  },
  {
   "cell_type": "code",
   "execution_count": 33,
   "metadata": {},
   "outputs": [
    {
     "name": "stdout",
     "output_type": "stream",
     "text": [
      "\n",
      "Question: How does machine learning work?\n",
      "Answer: Machine learning is a subfield of artificial intelligence that enables computers to learn from data without being explicitly programmed. Here's a simplified explanation of how it works:\n",
      "\n",
      "**Basic Components**\n",
      "\n",
      "1. **Data**: Machine learning algorithms require a large dataset to learn from. This data can be in the form of images, text, audio, or any other format.\n",
      "2. **Algorithm**: A machine learning algorithm is a set of instructions that analyzes the data and learns from it.\n",
      "3. **Model**: The output of the algorithm is a mathematical model that represents the relationships between the input data and the desired output.\n",
      "\n",
      "**Machine Learning Process**\n",
      "\n",
      "1. **Training**: The algorithm is fed the dataset and learns to identify patterns and relationships between the input data and the desired output.\n",
      "2. **Model Building**: The algorithm uses the patterns and relationships it learned to build a mathematical model that can make predictions or classify new, unseen data.\n",
      "3. **Testing**: The model is tested on a separate dataset to evaluate its performance and accuracy.\n",
      "4. **Iteration**: The algorithm may go through multiple iterations of training, model building, and testing to refine its performance.\n",
      "\n",
      "**Types of Machine Learning**\n",
      "\n",
      "1. **Supervised Learning**: The algorithm is trained on labeled data, where the correct output is already known. The goal is to learn a mapping between input data and output labels.\n",
      "2. **Unsupervised Learning**: The algorithm is trained on unlabeled data, and the goal is to discover patterns or relationships within the data.\n",
      "3. **Reinforcement Learning**: The algorithm learns by interacting with an environment and receiving feedback in the form of rewards or penalties.\n",
      "\n",
      "**How Machine Learning Works**\n",
      "\n",
      "When a machine learning algorithm is trained, it goes through the following steps:\n",
      "\n",
      "1. **Data Preprocessing**: The algorithm processes the data, which may involve cleaning, normalizing, or transforming the data.\n",
      "2. **Feature Engineering**: The algorithm extracts relevant features from the data that are useful for learning.\n",
      "3. **Model Selection**: The algorithm selects a suitable model architecture and hyperparameters.\n",
      "4. **Optimization**: The algorithm optimizes the model's performance by adjusting the model's parameters to minimize errors.\n",
      "5. **Evaluation**: The algorithm evaluates the model's performance on a test dataset.\n",
      "6. **Deployment**: The trained model is deployed to make predictions or classify new data.\n",
      "\n",
      "**Key Concepts**\n",
      "\n",
      "1. **Activation Functions**: Mathematical functions that introduce non-linearity to the model, allowing it to learn complex relationships.\n",
      "2. **Backpropagation**: An algorithm used to compute the gradient of the loss function and update the model's parameters.\n",
      "3. **Gradient Descent**: An optimization algorithm used to minimize the loss function by iteratively updating the model's parameters.\n",
      "4. **Overfitting**: When the model becomes too specialized to the training data and fails to generalize well to new data.\n",
      "5. **Underfitting**: When the model is too simple and fails to capture the underlying patterns in the data.\n",
      "\n",
      "This is a simplified overview of how machine learning works. If you'd like to dive deeper into any specific topic, feel free to ask!\n"
     ]
    }
   ],
   "source": [
    "# Ask another question\n",
    "second_question = \"How does machine learning work?\"\n",
    "response = chain.invoke({\"question\": second_question})\n",
    "print(\"\\nQuestion:\", second_question)\n",
    "print(\"Answer:\", response['text'])"
   ]
  },
  {
   "cell_type": "code",
   "execution_count": null,
   "metadata": {},
   "outputs": [],
   "source": []
  }
 ],
 "metadata": {
  "kernelspec": {
   "display_name": "venv",
   "language": "python",
   "name": "python3"
  },
  "language_info": {
   "codemirror_mode": {
    "name": "ipython",
    "version": 3
   },
   "file_extension": ".py",
   "mimetype": "text/x-python",
   "name": "python",
   "nbconvert_exporter": "python",
   "pygments_lexer": "ipython3",
   "version": "3.12.4"
  }
 },
 "nbformat": 4,
 "nbformat_minor": 2
}
