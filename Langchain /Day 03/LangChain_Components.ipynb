{
  "nbformat": 4,
  "nbformat_minor": 0,
  "metadata": {
    "colab": {
      "provenance": []
    },
    "kernelspec": {
      "name": "python3",
      "display_name": "Python 3"
    },
    "language_info": {
      "name": "python"
    }
  },
  "cells": [
    {
      "cell_type": "markdown",
      "source": [
        "# LangChain Components\n",
        "\n",
        "LangChain is a framework for developing applications powered by language models. It consists of several key components:\n",
        "\n",
        "## 1. Models\n",
        "\n",
        "- **Language Models**: The core AI models that generate text (e.g., GPT-3, GPT-4).\n",
        "- **Chat Models**: Models specifically designed for conversational interactions.\n",
        "- **Text Embedding Models**: Convert text into numerical vectors for semantic analysis.\n",
        "\n",
        "## 2. Prompts\n",
        "\n",
        "- **Prompt Templates**: Reusable structures for generating prompts.\n",
        "- **Example Selectors**: Methods for choosing relevant examples to include in prompts.\n",
        "- **Output Parsers**: Tools to extract structured data from model outputs.\n",
        "\n",
        "## 3. Indexes\n",
        "\n",
        "- **Document Loaders**: Import data from various sources.\n",
        "- **Text Splitters**: Divide text into manageable chunks.\n",
        "- **Vector Stores**: Databases for storing and retrieving embedded text.\n",
        "\n",
        "## 4. Memory\n",
        "\n",
        "- **Conversation Buffer Memory**: Store and retrieve conversation history.\n",
        "- **Entity Memory**: Track information about specific entities over time.\n",
        "- **Summary Memory**: Maintain condensed versions of past interactions.\n",
        "\n",
        "## 5. Chains\n",
        "\n",
        "- **LLM Chain**: Combine prompts and language models for specific tasks.\n",
        "- **Sequential Chain**: Execute multiple chains in a predefined order.\n",
        "- **Router Chain**: Direct inputs to appropriate sub-chains based on content.\n",
        "\n",
        "## 6. Agents\n",
        "\n",
        "- **Tool**: Functions that agents can use to interact with external systems.\n",
        "- **Agent**: Autonomous entities that use tools and language models to accomplish tasks.\n",
        "- **Agent Executors**: Manage the execution of agent actions and decisions.\n",
        "\n",
        "## 7. Callbacks\n",
        "\n",
        "- **Callback Handlers**: Monitor and log the internal processes of LangChain applications.\n",
        "\n",
        "These components can be combined and customized to create complex, AI-powered applications tailored to specific use cases."
      ],
      "metadata": {
        "id": "EbYWzCjp5DUZ"
      }
    }
  ]
}