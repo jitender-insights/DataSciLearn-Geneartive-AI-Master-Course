{
  "nbformat": 4,
  "nbformat_minor": 0,
  "metadata": {
    "colab": {
      "provenance": []
    },
    "kernelspec": {
      "name": "python3",
      "display_name": "Python 3"
    },
    "language_info": {
      "name": "python"
    }
  },
  "cells": [
    {
      "cell_type": "markdown",
      "source": [
        "# Large Language Models (LLMs) Reference\n",
        "\n",
        "## Open-Source Models\n",
        "\n",
        "1. **GPT-J**\n",
        "   - [EleutherAI/gpt-j-6B](https://github.com/EleutherAI/gpt-j-6B)\n",
        "\n",
        "2. **BLOOM**\n",
        "   - [BigScience/bloom](https://huggingface.co/bigscience/bloom)\n",
        "\n",
        "3. **OPT**\n",
        "   - [Facebook AI Research (FAIR)](https://github.com/facebookresearch/metaseq/tree/main/projects/OPT)\n",
        "\n",
        "4. **T5**\n",
        "   - [Google/T5](https://github.com/google-research/text-to-text-transfer-transformer)\n",
        "\n",
        "5. **BERT**\n",
        "   - [Google/BERT](https://github.com/google-research/bert)\n",
        "\n",
        "6. **RoBERTa**\n",
        "   - [Facebook AI/RoBERTa](https://github.com/facebookresearch/fairseq/tree/main/examples/roberta)\n",
        "\n",
        "7. **LLaMA**\n",
        "   - [Facebook AI Research (FAIR)](https://github.com/facebookresearch/llama)\n",
        "\n",
        "## Paid/Commercial Models\n",
        "\n",
        "1. **GPT-3**\n",
        "   - [OpenAI](https://openai.com/api/)\n",
        "\n",
        "2. **GPT-4**\n",
        "   - [OpenAI](https://openai.com/gpt-4)\n",
        "\n",
        "3. **Claude**\n",
        "   - [Anthropic](https://www.anthropic.com)\n",
        "\n",
        "4. **PaLM** and **Gemini**\n",
        "   - [Google AI](https://ai.google/discover/palm2)\n",
        "\n",
        "5. **Jurassic-1**\n",
        "   - [AI21 Labs](https://www.ai21.com/studio)\n",
        "\n",
        "6. **ERNIE**\n",
        "   - [Baidu](https://wenxin.baidu.com/)\n",
        "\n",
        "7. **LaMDA**\n",
        "   - [Google AI](https://blog.google/technology/ai/lamda/)\n",
        "\n",
        "8. **Cohere**\n",
        "   - [Cohere](https://cohere.ai/)"
      ],
      "metadata": {
        "id": "TAvL6sdy9IMS"
      }
    },
    {
      "cell_type": "markdown",
      "source": [
        "# Some  useful links\n",
        "\n",
        "1. Google Gemini API Key : https://ai.google.dev/gemini-api/docs/api-key\n",
        "2. Anthrophic API Key : https://www.anthropic.com/api\n",
        "3. Open AI API Key : https://openai.com/index/openai-api/\n",
        "\n",
        "## Gemeni docs links\n",
        "https://ai.google.dev/gemini-api/docs/quickstart?lang=python\n",
        "\n",
        "## Open source LLM\n",
        "\n",
        "https://ollama.com/"
      ],
      "metadata": {
        "id": "iZBd-jE8_hMD"
      }
    },
    {
      "cell_type": "code",
      "source": [
        "!pip install google-generativeai"
      ],
      "metadata": {
        "colab": {
          "base_uri": "https://localhost:8080/",
          "height": 0
        },
        "id": "NwVhdqZA-SoH",
        "outputId": "f7d5f16b-ffd3-477b-ae87-7e50bbb90fc6"
      },
      "execution_count": 2,
      "outputs": [
        {
          "output_type": "stream",
          "name": "stdout",
          "text": [
            "Requirement already satisfied: google-generativeai in /usr/local/lib/python3.10/dist-packages (0.7.2)\n",
            "Requirement already satisfied: google-ai-generativelanguage==0.6.6 in /usr/local/lib/python3.10/dist-packages (from google-generativeai) (0.6.6)\n",
            "Requirement already satisfied: google-api-core in /usr/local/lib/python3.10/dist-packages (from google-generativeai) (2.19.1)\n",
            "Requirement already satisfied: google-api-python-client in /usr/local/lib/python3.10/dist-packages (from google-generativeai) (2.137.0)\n",
            "Requirement already satisfied: google-auth>=2.15.0 in /usr/local/lib/python3.10/dist-packages (from google-generativeai) (2.27.0)\n",
            "Requirement already satisfied: protobuf in /usr/local/lib/python3.10/dist-packages (from google-generativeai) (3.20.3)\n",
            "Requirement already satisfied: pydantic in /usr/local/lib/python3.10/dist-packages (from google-generativeai) (2.8.2)\n",
            "Requirement already satisfied: tqdm in /usr/local/lib/python3.10/dist-packages (from google-generativeai) (4.66.5)\n",
            "Requirement already satisfied: typing-extensions in /usr/local/lib/python3.10/dist-packages (from google-generativeai) (4.12.2)\n",
            "Requirement already satisfied: proto-plus<2.0.0dev,>=1.22.3 in /usr/local/lib/python3.10/dist-packages (from google-ai-generativelanguage==0.6.6->google-generativeai) (1.24.0)\n",
            "Requirement already satisfied: googleapis-common-protos<2.0.dev0,>=1.56.2 in /usr/local/lib/python3.10/dist-packages (from google-api-core->google-generativeai) (1.63.2)\n",
            "Requirement already satisfied: requests<3.0.0.dev0,>=2.18.0 in /usr/local/lib/python3.10/dist-packages (from google-api-core->google-generativeai) (2.32.3)\n",
            "Requirement already satisfied: cachetools<6.0,>=2.0.0 in /usr/local/lib/python3.10/dist-packages (from google-auth>=2.15.0->google-generativeai) (5.4.0)\n",
            "Requirement already satisfied: pyasn1-modules>=0.2.1 in /usr/local/lib/python3.10/dist-packages (from google-auth>=2.15.0->google-generativeai) (0.4.0)\n",
            "Requirement already satisfied: rsa<5,>=3.1.4 in /usr/local/lib/python3.10/dist-packages (from google-auth>=2.15.0->google-generativeai) (4.9)\n",
            "Requirement already satisfied: httplib2<1.dev0,>=0.19.0 in /usr/local/lib/python3.10/dist-packages (from google-api-python-client->google-generativeai) (0.22.0)\n",
            "Requirement already satisfied: google-auth-httplib2<1.0.0,>=0.2.0 in /usr/local/lib/python3.10/dist-packages (from google-api-python-client->google-generativeai) (0.2.0)\n",
            "Requirement already satisfied: uritemplate<5,>=3.0.1 in /usr/local/lib/python3.10/dist-packages (from google-api-python-client->google-generativeai) (4.1.1)\n",
            "Requirement already satisfied: annotated-types>=0.4.0 in /usr/local/lib/python3.10/dist-packages (from pydantic->google-generativeai) (0.7.0)\n",
            "Requirement already satisfied: pydantic-core==2.20.1 in /usr/local/lib/python3.10/dist-packages (from pydantic->google-generativeai) (2.20.1)\n",
            "Requirement already satisfied: grpcio<2.0dev,>=1.33.2 in /usr/local/lib/python3.10/dist-packages (from google-api-core[grpc]!=2.0.*,!=2.1.*,!=2.10.*,!=2.2.*,!=2.3.*,!=2.4.*,!=2.5.*,!=2.6.*,!=2.7.*,!=2.8.*,!=2.9.*,<3.0.0dev,>=1.34.1->google-ai-generativelanguage==0.6.6->google-generativeai) (1.64.1)\n",
            "Requirement already satisfied: grpcio-status<2.0.dev0,>=1.33.2 in /usr/local/lib/python3.10/dist-packages (from google-api-core[grpc]!=2.0.*,!=2.1.*,!=2.10.*,!=2.2.*,!=2.3.*,!=2.4.*,!=2.5.*,!=2.6.*,!=2.7.*,!=2.8.*,!=2.9.*,<3.0.0dev,>=1.34.1->google-ai-generativelanguage==0.6.6->google-generativeai) (1.48.2)\n",
            "Requirement already satisfied: pyparsing!=3.0.0,!=3.0.1,!=3.0.2,!=3.0.3,<4,>=2.4.2 in /usr/local/lib/python3.10/dist-packages (from httplib2<1.dev0,>=0.19.0->google-api-python-client->google-generativeai) (3.1.2)\n",
            "Requirement already satisfied: pyasn1<0.7.0,>=0.4.6 in /usr/local/lib/python3.10/dist-packages (from pyasn1-modules>=0.2.1->google-auth>=2.15.0->google-generativeai) (0.6.0)\n",
            "Requirement already satisfied: charset-normalizer<4,>=2 in /usr/local/lib/python3.10/dist-packages (from requests<3.0.0.dev0,>=2.18.0->google-api-core->google-generativeai) (3.3.2)\n",
            "Requirement already satisfied: idna<4,>=2.5 in /usr/local/lib/python3.10/dist-packages (from requests<3.0.0.dev0,>=2.18.0->google-api-core->google-generativeai) (3.7)\n",
            "Requirement already satisfied: urllib3<3,>=1.21.1 in /usr/local/lib/python3.10/dist-packages (from requests<3.0.0.dev0,>=2.18.0->google-api-core->google-generativeai) (2.0.7)\n",
            "Requirement already satisfied: certifi>=2017.4.17 in /usr/local/lib/python3.10/dist-packages (from requests<3.0.0.dev0,>=2.18.0->google-api-core->google-generativeai) (2024.7.4)\n"
          ]
        }
      ]
    },
    {
      "cell_type": "code",
      "source": [
        "API_KEY=\"XXXXXXXXXXXXXXXXXXXXXXXXXXXXXXXXXXXXXXXXXXXXXX\""
      ],
      "metadata": {
        "id": "LztnHpQZHMi2"
      },
      "execution_count": 3,
      "outputs": []
    },
    {
      "cell_type": "code",
      "source": [
        "import google.generativeai as genai"
      ],
      "metadata": {
        "id": "9X2c7g9xHnjr"
      },
      "execution_count": 4,
      "outputs": []
    },
    {
      "cell_type": "code",
      "source": [
        "genai.configure(api_key=API_KEY)"
      ],
      "metadata": {
        "id": "rC6pWth7HvMA"
      },
      "execution_count": 5,
      "outputs": []
    },
    {
      "cell_type": "code",
      "source": [
        "model = genai.GenerativeModel('gemini-1.5-flash')"
      ],
      "metadata": {
        "id": "98ykEVLCHvOS"
      },
      "execution_count": 6,
      "outputs": []
    },
    {
      "cell_type": "code",
      "source": [
        "response = model.generate_content(\"Write a Python two add two numbers\")"
      ],
      "metadata": {
        "id": "1FjK1xGNHvQs"
      },
      "execution_count": 9,
      "outputs": []
    },
    {
      "cell_type": "code",
      "source": [
        "print(response.text)"
      ],
      "metadata": {
        "colab": {
          "base_uri": "https://localhost:8080/",
          "height": 0
        },
        "id": "3Se40F6OHwRV",
        "outputId": "6163cb82-7551-4f1c-d25a-e9e7991ec64b"
      },
      "execution_count": 10,
      "outputs": [
        {
          "output_type": "stream",
          "name": "stdout",
          "text": [
            "```python\n",
            "def add_two_numbers(num1, num2):\n",
            "  \"\"\"Adds two numbers together.\n",
            "\n",
            "  Args:\n",
            "    num1: The first number.\n",
            "    num2: The second number.\n",
            "\n",
            "  Returns:\n",
            "    The sum of the two numbers.\n",
            "  \"\"\"\n",
            "  return num1 + num2\n",
            "\n",
            "# Get input from the user\n",
            "num1 = float(input(\"Enter the first number: \"))\n",
            "num2 = float(input(\"Enter the second number: \"))\n",
            "\n",
            "# Calculate the sum\n",
            "sum = add_two_numbers(num1, num2)\n",
            "\n",
            "# Print the result\n",
            "print(\"The sum of\", num1, \"and\", num2, \"is:\", sum)\n",
            "```\n",
            "\n",
            "**Explanation:**\n",
            "\n",
            "1. **Function Definition:**\n",
            "   - `def add_two_numbers(num1, num2):` defines a function named `add_two_numbers` that takes two arguments, `num1` and `num2`.\n",
            "\n",
            "2. **Docstring:**\n",
            "   - The first line inside the function is a docstring, which explains what the function does. This is good practice for documentation.\n",
            "\n",
            "3. **Calculation:**\n",
            "   - `return num1 + num2` calculates the sum of `num1` and `num2` and returns it.\n",
            "\n",
            "4. **User Input:**\n",
            "   - `num1 = float(input(\"Enter the first number: \"))` and `num2 = float(input(\"Enter the second number: \"))` prompt the user to enter two numbers. The `float()` function converts the input to floating-point numbers.\n",
            "\n",
            "5. **Function Call:**\n",
            "   - `sum = add_two_numbers(num1, num2)` calls the `add_two_numbers` function with the user's input as arguments and stores the result in the `sum` variable.\n",
            "\n",
            "6. **Output:**\n",
            "   - `print(\"The sum of\", num1, \"and\", num2, \"is:\", sum)` displays the sum of the two numbers.\n",
            "\n",
            "**How to run this code:**\n",
            "\n",
            "1. **Save the code:** Save the code as a `.py` file (e.g., `add_numbers.py`).\n",
            "2. **Open a terminal or command prompt:** Navigate to the directory where you saved the file.\n",
            "3. **Run the script:** Execute the command `python add_numbers.py`.\n",
            "4. **Enter the numbers:** The program will prompt you to enter the two numbers. \n",
            "5. **See the result:** The sum of the two numbers will be printed.\n",
            "\n"
          ]
        }
      ]
    },
    {
      "cell_type": "code",
      "source": [],
      "metadata": {
        "id": "MIBp4BsjIsrS"
      },
      "execution_count": null,
      "outputs": []
    }
  ]
}